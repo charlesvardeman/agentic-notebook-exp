{
 "cells": [
  {
   "cell_type": "code",
   "execution_count": 5,
   "metadata": {},
   "outputs": [],
   "source": [
    "#| hide\n",
    "# from agentic_notebook_exp.core import *"
   ]
  },
  {
   "cell_type": "markdown",
   "metadata": {},
   "source": [
    "## Install\n",
    "\n",
    "The [nbdev](https://nbdev.fast.ai/) tool requires [Quarto](https://quarto.org/) to be installed for rendering of documents as html, pdf, etc. Quarto can be installed from [here](https://quarto.org/docs/get-started/)."
   ]
  },
  {
   "cell_type": "markdown",
   "metadata": {},
   "source": [
    "This repository uses PDM in a .venv folder.\n",
    "1. Install [pdm](https://pdm.fming.dev/)\n",
    "2. Set pdm to use .venv\n",
    "```sh\n",
    "pdm config python.\n",
    "```\n",
    "4. Install depenencies using pdm\n",
    "```sh\n",
    "pdm install agentic_notebook_exp\n",
    "```\n",
    "\n",
    "PDM will install Prezel AI and it's version of Jupyter lab. You can start prezel lab with:\n",
    "```sh\n",
    "pretzel lab\n",
    "```\n"
   ]
  },
  {
   "cell_type": "markdown",
   "metadata": {},
   "source": [
    "## How to use"
   ]
  },
  {
   "cell_type": "markdown",
   "metadata": {},
   "source": [
    "Fill me in please! Don't forget code examples:"
   ]
  },
  {
   "cell_type": "code",
   "execution_count": null,
   "metadata": {},
   "outputs": [],
   "source": []
  }
 ],
 "metadata": {
  "kernelspec": {
   "display_name": "Python 3 (ipykernel)",
   "language": "python",
   "name": "python3"
  },
  "language_info": {
   "codemirror_mode": {
    "name": "ipython",
    "version": 3
   },
   "file_extension": ".py",
   "mimetype": "text/x-python",
   "name": "python",
   "nbconvert_exporter": "python",
   "pygments_lexer": "ipython3",
   "version": "3.11.9"
  }
 },
 "nbformat": 4,
 "nbformat_minor": 4
}
